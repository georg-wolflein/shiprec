{
 "cells": [
  {
   "cell_type": "code",
   "execution_count": 1,
   "metadata": {},
   "outputs": [],
   "source": [
    "import openslide\n",
    "from openslide import lowlevel as openslide_ll\n",
    "from ctypes import c_uint32\n",
    "import numpy as np\n",
    "import matplotlib.pyplot as plt\n",
    "from typing import Tuple, Optional\n",
    "from loguru import logger\n",
    "import re\n",
    "import cv2\n",
    "\n",
    "from shipline.mpp import get_slide_mpp\n",
    "\n",
    "SLIDE_FILE = \"/data/data/TCGA-BRCA-DX-IMGS_1133/TCGA-AO-A12B-01Z-00-DX1.B215230B-5FF7-4B0A-9C1E-5F1658534B11.svs\""
   ]
  },
  {
   "cell_type": "code",
   "execution_count": 2,
   "metadata": {},
   "outputs": [
    {
     "name": "stderr",
     "output_type": "stream",
     "text": [
      "\u001b[32m2023-08-04 09:08:03.979\u001b[0m | \u001b[1mINFO    \u001b[0m | \u001b[36mshipline.mpp\u001b[0m:\u001b[36mget_slide_mpp\u001b[0m:\u001b[36m42\u001b[0m - \u001b[1mMPP successfully extracted using extract_mpp_from_properties: 0.499\u001b[0m\n"
     ]
    }
   ],
   "source": [
    "slide = openslide.OpenSlide(SLIDE_FILE)\n",
    "target_mpp = 256./224.\n",
    "slide_mpp = get_slide_mpp(slide)"
   ]
  },
  {
   "cell_type": "code",
   "execution_count": 5,
   "metadata": {},
   "outputs": [],
   "source": [
    "def read_region(slide: openslide.OpenSlide, loc: Tuple[int, int], level: int, size: Tuple[int, int], resize: Optional[Tuple[int, int]] = None) -> np.ndarray:\n",
    "    \"\"\"Adapted from openslide.lowlevel.read_region() to not use PIL images, but directly return a numpy array.\"\"\"\n",
    "    x, y = loc\n",
    "    w, h = size\n",
    "    if w < 0 or h < 0:\n",
    "        raise openslide.OpenSlideError(\n",
    "            \"negative width (%d) or negative height (%d) not allowed\" % (w, h)\n",
    "        )\n",
    "    buf = (w * h * c_uint32)()\n",
    "    openslide_ll._read_region(slide._osr, buf, x, y, level, w, h)\n",
    "    openslide_ll._convert.argb2rgba(buf)\n",
    "    img = np.frombuffer(buf, dtype=np.uint8).reshape(*size[::-1], 4)[..., :3] # remove alpha channel\n",
    "    if resize is not None:\n",
    "        img = cv2.resize(img, resize)\n",
    "    return img"
   ]
  },
  {
   "cell_type": "code",
   "execution_count": 4,
   "metadata": {},
   "outputs": [],
   "source": [
    "# Find biggest zoom level for given target MPP\n",
    "level = int(np.log2(target_mpp / slide_mpp))\n",
    "level_zoom_factor = 2**level\n",
    "\n",
    "extraction_mpp = slide_mpp * level_zoom_factor\n",
    "\n",
    "steps = 32\n",
    "stride = np.ceil(np.array(slide.dimensions)/steps) # stride in pixels at level 0\n",
    "stride = stride * level_zoom_factor # stride in pixels at extraction level\n",
    "stride = stride.astype(int)\n",
    "tile_target_size = stride*extraction_mpp/target_mpp # tile size in pixels at extraction level\n",
    "tile_target_size = tile_target_size.astype(int)\n"
   ]
  },
  {
   "cell_type": "code",
   "execution_count": 6,
   "metadata": {},
   "outputs": [
    {
     "name": "stdout",
     "output_type": "stream",
     "text": [
      "1.01 s ± 0 ns per loop (mean ± std. dev. of 1 run, 1 loop each)\n"
     ]
    }
   ],
   "source": [
    "%timeit -n 1 -r 1 read_region(slide, (0, 0), level, stride, tile_target_size)"
   ]
  },
  {
   "cell_type": "code",
   "execution_count": null,
   "metadata": {},
   "outputs": [],
   "source": []
  }
 ],
 "metadata": {
  "kernelspec": {
   "display_name": "env",
   "language": "python",
   "name": "python3"
  },
  "language_info": {
   "codemirror_mode": {
    "name": "ipython",
    "version": 3
   },
   "file_extension": ".py",
   "mimetype": "text/x-python",
   "name": "python",
   "nbconvert_exporter": "python",
   "pygments_lexer": "ipython3",
   "version": "3.10.12"
  },
  "orig_nbformat": 4
 },
 "nbformat": 4,
 "nbformat_minor": 2
}
