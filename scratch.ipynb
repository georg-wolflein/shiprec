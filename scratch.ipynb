{
 "cells": [
  {
   "cell_type": "code",
   "execution_count": 1,
   "metadata": {},
   "outputs": [],
   "source": [
    "import openslide\n",
    "from openslide import lowlevel as openslide_ll\n",
    "from ctypes import c_uint32, POINTER, cast, addressof, c_void_p, byref, c_uint8, sizeof, c_uint16\n",
    "import numpy as np\n",
    "import matplotlib.pyplot as plt\n",
    "from typing import Tuple, Optional\n",
    "from loguru import logger\n",
    "import re\n",
    "import cv2\n",
    "from multiprocessing import RawArray\n",
    "import concurrent\n",
    "from concurrent.futures import ProcessPoolExecutor\n",
    "from concurrent import futures\n",
    "from tqdm import tqdm\n",
    "from pathlib import Path\n",
    "\n",
    "import shiprec\n",
    "from shiprec.load_slide import load_slide\n",
    "from shiprec.macenko import NumpyMacenkoNormalizer\n",
    "\n",
    "SLIDE_FILE = \"/data/data/TCGA-BRCA-DX-IMGS_1133/TCGA-AO-A12B-01Z-00-DX1.B215230B-5FF7-4B0A-9C1E-5F1658534B11.svs\""
   ]
  },
  {
   "cell_type": "code",
   "execution_count": 2,
   "metadata": {},
   "outputs": [],
   "source": [
    "target = cv2.cvtColor(cv2.imread(str(Path(shiprec.__file__).parent.parent / \"normalization_template.jpg\")), cv2.COLOR_BGR2RGB)"
   ]
  },
  {
   "cell_type": "code",
   "execution_count": 3,
   "metadata": {},
   "outputs": [
    {
     "name": "stdout",
     "output_type": "stream",
     "text": [
      "\u001b[32m2023-08-05 14:26:19.021\u001b[0m | \u001b[1mINFO    \u001b[0m | \u001b[36mshipline.mpp\u001b[0m:\u001b[36mget_slide_mpp\u001b[0m:\u001b[36m42\u001b[0m - \u001b[1mMPP successfully extracted using extract_mpp_from_properties: 0.499\u001b[0m\n"
     ]
    },
    {
     "name": "stderr",
     "output_type": "stream",
     "text": [
      "Loading slide:   0%|          | 0/32 [00:00<?, ?it/s]\n"
     ]
    },
    {
     "ename": "TypeError",
     "evalue": "An asyncio.Future, a coroutine or an awaitable is required",
     "output_type": "error",
     "traceback": [
      "\u001b[0;31m---------------------------------------------------------------------------\u001b[0m",
      "\u001b[0;31mTypeError\u001b[0m                                 Traceback (most recent call last)",
      "Cell \u001b[0;32mIn[3], line 1\u001b[0m\n\u001b[0;32m----> 1\u001b[0m slide \u001b[39m=\u001b[39m load_slide(SLIDE_FILE, target_mpp\u001b[39m=\u001b[39;49m\u001b[39m256\u001b[39;49m\u001b[39m/\u001b[39;49m\u001b[39m224\u001b[39;49m)\n",
      "File \u001b[0;32m/app/shipline/load_slide.py:84\u001b[0m, in \u001b[0;36mload_slide\u001b[0;34m(slide_file, target_mpp, num_processes, num_steps)\u001b[0m\n\u001b[1;32m     82\u001b[0m         \u001b[39mfor\u001b[39;00m i \u001b[39min\u001b[39;00m \u001b[39mrange\u001b[39m(num_steps):\n\u001b[1;32m     83\u001b[0m             fs\u001b[39m.\u001b[39mappend(p\u001b[39m.\u001b[39msubmit(_worker, slide_file, loaded_tile_size, target_tile_size, target_slide_size, i))\n\u001b[0;32m---> 84\u001b[0m         \u001b[39mfor\u001b[39;00m _ \u001b[39min\u001b[39;00m tqdm\u001b[39m.\u001b[39mas_completed(fs, desc\u001b[39m=\u001b[39m\u001b[39m\"\u001b[39m\u001b[39mLoading slide\u001b[39m\u001b[39m\"\u001b[39m, position\u001b[39m=\u001b[39m\u001b[39m0\u001b[39m):\n\u001b[1;32m     85\u001b[0m             \u001b[39mpass\u001b[39;00m\n\u001b[1;32m     86\u001b[0m \u001b[39mreturn\u001b[39;00m np\u001b[39m.\u001b[39mndarray((\u001b[39m*\u001b[39mtarget_slide_size[::\u001b[39m-\u001b[39m\u001b[39m1\u001b[39m], \u001b[39m3\u001b[39m), dtype\u001b[39m=\u001b[39mnp\u001b[39m.\u001b[39muint8, buffer\u001b[39m=\u001b[39mws_buf)\n",
      "File \u001b[0;32m/app/env/lib/python3.10/site-packages/tqdm/asyncio.py:67\u001b[0m, in \u001b[0;36mtqdm_asyncio.as_completed\u001b[0;34m(cls, fs, loop, timeout, total, **tqdm_kwargs)\u001b[0m\n\u001b[1;32m     65\u001b[0m \u001b[39mif\u001b[39;00m version_info[:\u001b[39m2\u001b[39m] \u001b[39m<\u001b[39m (\u001b[39m3\u001b[39m, \u001b[39m10\u001b[39m):\n\u001b[1;32m     66\u001b[0m     kwargs[\u001b[39m'\u001b[39m\u001b[39mloop\u001b[39m\u001b[39m'\u001b[39m] \u001b[39m=\u001b[39m loop\n\u001b[0;32m---> 67\u001b[0m \u001b[39myield from\u001b[39;00m \u001b[39mcls\u001b[39m(asyncio\u001b[39m.\u001b[39mas_completed(fs, timeout\u001b[39m=\u001b[39mtimeout, \u001b[39m*\u001b[39m\u001b[39m*\u001b[39mkwargs),\n\u001b[1;32m     68\u001b[0m                total\u001b[39m=\u001b[39mtotal, \u001b[39m*\u001b[39m\u001b[39m*\u001b[39mtqdm_kwargs)\n",
      "File \u001b[0;32m/app/env/lib/python3.10/site-packages/tqdm/std.py:1178\u001b[0m, in \u001b[0;36mtqdm.__iter__\u001b[0;34m(self)\u001b[0m\n\u001b[1;32m   1175\u001b[0m time \u001b[39m=\u001b[39m \u001b[39mself\u001b[39m\u001b[39m.\u001b[39m_time\n\u001b[1;32m   1177\u001b[0m \u001b[39mtry\u001b[39;00m:\n\u001b[0;32m-> 1178\u001b[0m     \u001b[39mfor\u001b[39;00m obj \u001b[39min\u001b[39;00m iterable:\n\u001b[1;32m   1179\u001b[0m         \u001b[39myield\u001b[39;00m obj\n\u001b[1;32m   1180\u001b[0m         \u001b[39m# Update and possibly print the progressbar.\u001b[39;00m\n\u001b[1;32m   1181\u001b[0m         \u001b[39m# Note: does not call self.update(1) for speed optimisation.\u001b[39;00m\n",
      "File \u001b[0;32m/usr/lib/python3.10/asyncio/tasks.py:549\u001b[0m, in \u001b[0;36mas_completed\u001b[0;34m(fs, timeout)\u001b[0m\n\u001b[1;32m    546\u001b[0m done \u001b[39m=\u001b[39m Queue()\n\u001b[1;32m    548\u001b[0m loop \u001b[39m=\u001b[39m events\u001b[39m.\u001b[39m_get_event_loop()\n\u001b[0;32m--> 549\u001b[0m todo \u001b[39m=\u001b[39m {ensure_future(f, loop\u001b[39m=\u001b[39mloop) \u001b[39mfor\u001b[39;00m f \u001b[39min\u001b[39;00m \u001b[39mset\u001b[39m(fs)}\n\u001b[1;32m    550\u001b[0m timeout_handle \u001b[39m=\u001b[39m \u001b[39mNone\u001b[39;00m\n\u001b[1;32m    552\u001b[0m \u001b[39mdef\u001b[39;00m \u001b[39m_on_timeout\u001b[39m():\n",
      "File \u001b[0;32m/usr/lib/python3.10/asyncio/tasks.py:549\u001b[0m, in \u001b[0;36m<setcomp>\u001b[0;34m(.0)\u001b[0m\n\u001b[1;32m    546\u001b[0m done \u001b[39m=\u001b[39m Queue()\n\u001b[1;32m    548\u001b[0m loop \u001b[39m=\u001b[39m events\u001b[39m.\u001b[39m_get_event_loop()\n\u001b[0;32m--> 549\u001b[0m todo \u001b[39m=\u001b[39m {ensure_future(f, loop\u001b[39m=\u001b[39;49mloop) \u001b[39mfor\u001b[39;00m f \u001b[39min\u001b[39;00m \u001b[39mset\u001b[39m(fs)}\n\u001b[1;32m    550\u001b[0m timeout_handle \u001b[39m=\u001b[39m \u001b[39mNone\u001b[39;00m\n\u001b[1;32m    552\u001b[0m \u001b[39mdef\u001b[39;00m \u001b[39m_on_timeout\u001b[39m():\n",
      "File \u001b[0;32m/usr/lib/python3.10/asyncio/tasks.py:615\u001b[0m, in \u001b[0;36mensure_future\u001b[0;34m(coro_or_future, loop)\u001b[0m\n\u001b[1;32m    610\u001b[0m \u001b[39mdef\u001b[39;00m \u001b[39mensure_future\u001b[39m(coro_or_future, \u001b[39m*\u001b[39m, loop\u001b[39m=\u001b[39m\u001b[39mNone\u001b[39;00m):\n\u001b[1;32m    611\u001b[0m \u001b[39m    \u001b[39m\u001b[39m\"\"\"Wrap a coroutine or an awaitable in a future.\u001b[39;00m\n\u001b[1;32m    612\u001b[0m \n\u001b[1;32m    613\u001b[0m \u001b[39m    If the argument is a Future, it is returned directly.\u001b[39;00m\n\u001b[1;32m    614\u001b[0m \u001b[39m    \"\"\"\u001b[39;00m\n\u001b[0;32m--> 615\u001b[0m     \u001b[39mreturn\u001b[39;00m _ensure_future(coro_or_future, loop\u001b[39m=\u001b[39;49mloop)\n",
      "File \u001b[0;32m/usr/lib/python3.10/asyncio/tasks.py:630\u001b[0m, in \u001b[0;36m_ensure_future\u001b[0;34m(coro_or_future, loop)\u001b[0m\n\u001b[1;32m    628\u001b[0m         called_wrap_awaitable \u001b[39m=\u001b[39m \u001b[39mTrue\u001b[39;00m\n\u001b[1;32m    629\u001b[0m     \u001b[39melse\u001b[39;00m:\n\u001b[0;32m--> 630\u001b[0m         \u001b[39mraise\u001b[39;00m \u001b[39mTypeError\u001b[39;00m(\u001b[39m'\u001b[39m\u001b[39mAn asyncio.Future, a coroutine or an awaitable \u001b[39m\u001b[39m'\u001b[39m\n\u001b[1;32m    631\u001b[0m                         \u001b[39m'\u001b[39m\u001b[39mis required\u001b[39m\u001b[39m'\u001b[39m)\n\u001b[1;32m    633\u001b[0m \u001b[39mif\u001b[39;00m loop \u001b[39mis\u001b[39;00m \u001b[39mNone\u001b[39;00m:\n\u001b[1;32m    634\u001b[0m     loop \u001b[39m=\u001b[39m events\u001b[39m.\u001b[39m_get_event_loop(stacklevel\u001b[39m=\u001b[39m\u001b[39m4\u001b[39m)\n",
      "\u001b[0;31mTypeError\u001b[0m: An asyncio.Future, a coroutine or an awaitable is required"
     ]
    }
   ],
   "source": [
    "slide = load_slide(SLIDE_FILE, target_mpp=256/224)"
   ]
  },
  {
   "cell_type": "code",
   "execution_count": 17,
   "metadata": {},
   "outputs": [],
   "source": [
    "normalizer = NumpyMacenkoNormalizer()\n",
    "normalizer.fit(target)"
   ]
  },
  {
   "cell_type": "code",
   "execution_count": 18,
   "metadata": {},
   "outputs": [],
   "source": [
    "# plt.imshow(slide)"
   ]
  },
  {
   "cell_type": "code",
   "execution_count": 19,
   "metadata": {},
   "outputs": [],
   "source": [
    "out, _, _ = normalizer.normalize(slide)"
   ]
  },
  {
   "cell_type": "code",
   "execution_count": 20,
   "metadata": {},
   "outputs": [],
   "source": [
    "# plt.imshow(out)"
   ]
  },
  {
   "cell_type": "code",
   "execution_count": null,
   "metadata": {},
   "outputs": [],
   "source": []
  }
 ],
 "metadata": {
  "kernelspec": {
   "display_name": "env",
   "language": "python",
   "name": "python3"
  },
  "language_info": {
   "codemirror_mode": {
    "name": "ipython",
    "version": 3
   },
   "file_extension": ".py",
   "mimetype": "text/x-python",
   "name": "python",
   "nbconvert_exporter": "python",
   "pygments_lexer": "ipython3",
   "version": "3.10.12"
  },
  "orig_nbformat": 4
 },
 "nbformat": 4,
 "nbformat_minor": 2
}
