{
 "cells": [
  {
   "cell_type": "code",
   "execution_count": 1,
   "metadata": {},
   "outputs": [],
   "source": [
    "from pathlib import Path\n",
    "import zarr\n",
    "import numpy as np\n",
    "from tqdm import tqdm\n",
    "import matplotlib.pyplot as plt\n",
    "import cv2\n",
    "from loguru import logger\n",
    "import h5py\n",
    "from typing import Union\n",
    "\n",
    "Array = Union[h5py.Dataset, zarr.Array, np.ndarray]\n",
    "\n",
    "patch_size = 224"
   ]
  },
  {
   "cell_type": "code",
   "execution_count": 2,
   "metadata": {},
   "outputs": [],
   "source": [
    "# zarr\n",
    "feature_folder = Path(\"/data/data/shiprec/TCGA-BRCA-DX\")\n",
    "slide_folder = feature_folder / \"TCGA-4H-AAAK-01Z-00-DX1.ABF1B042-1970-4E28-8671-43AAD393D2F9/\"\n",
    "\n",
    "coords = zarr.open(str(slide_folder / \"coords.zarr\"), mode=\"r\")\n",
    "norm_patches = zarr.open(str(slide_folder / \"normalized_patches.zarr\"), mode=\"r\")\n",
    "patches = zarr.open(str(slide_folder / \"patches.zarr\"), mode=\"r\")"
   ]
  },
  {
   "cell_type": "code",
   "execution_count": 3,
   "metadata": {},
   "outputs": [],
   "source": [
    "# # h5py\n",
    "\n",
    "# feature_folder = Path(\"/mnt/bulk/gwoelflein/georg-tcga-slides/shiprec/TCGA-BRCA-DX\")\n",
    "# slide = \"TCGA-3C-AALI-01Z-00-DX1.F6E9A5DF-D8FB-45CF-B4BD-C6B76294C291\"\n",
    "\n",
    "# # features_file = feature_folder / \"features\" / f\"{slide}.h5\"\n",
    "# patches_file = feature_folder / \"images\" / f\"{slide}.h5\"\n",
    "\n",
    "# with h5py.File(patches_file, \"r\") as f:\n",
    "#     norm_patches = f[\"normalized_patches\"]\n",
    "#     patches = f[\"patches\"]\n",
    "#     coords = f[\"coords\"]"
   ]
  },
  {
   "cell_type": "code",
   "execution_count": 4,
   "metadata": {},
   "outputs": [],
   "source": [
    "def reconstruct_image(patches: Array, coords: Array) -> np.ndarray:\n",
    "    coords = coords[:]\n",
    "    patches = patches[:]\n",
    "\n",
    "    img = np.zeros((*(coords.max(0) + patch_size)[::-1], 3), dtype=np.uint8)\n",
    "    for (x, y), patch in tqdm(zip(coords, patches), total=coords.shape[0], desc=\"Reconstructing image\"):\n",
    "        img[y : y + patch_size, x : x + patch_size] = patch\n",
    "    logger.debug(f\"Reconstructed image from {patches.shape[0]} patches as shape {img.shape}\")\n",
    "    return img"
   ]
  },
  {
   "cell_type": "code",
   "execution_count": 6,
   "metadata": {},
   "outputs": [
    {
     "name": "stderr",
     "output_type": "stream",
     "text": [
      "Reconstructing image: 100%|██████████| 2643/2643 [00:00<00:00, 6961.89it/s]\n",
      "\u001b[32m2023-09-11 11:44:00.229\u001b[0m | \u001b[34m\u001b[1mDEBUG   \u001b[0m | \u001b[36m__main__\u001b[0m:\u001b[36mreconstruct_image\u001b[0m:\u001b[36m8\u001b[0m - \u001b[34m\u001b[1mReconstructed image from 2643 patches as shape (16576, 15456, 3)\u001b[0m\n",
      "Reconstructing image: 100%|██████████| 2643/2643 [00:00<00:00, 6990.39it/s]\n",
      "\u001b[32m2023-09-11 11:44:14.590\u001b[0m | \u001b[34m\u001b[1mDEBUG   \u001b[0m | \u001b[36m__main__\u001b[0m:\u001b[36mreconstruct_image\u001b[0m:\u001b[36m8\u001b[0m - \u001b[34m\u001b[1mReconstructed image from 2643 patches as shape (16576, 15456, 3)\u001b[0m\n"
     ]
    },
    {
     "data": {
      "text/plain": [
       "True"
      ]
     },
     "execution_count": 6,
     "metadata": {},
     "output_type": "execute_result"
    }
   ],
   "source": [
    "cv2.imwrite(\"/app/patches.png\", cv2.cvtColor(reconstruct_image(patches, coords), cv2.COLOR_RGB2BGR))\n",
    "cv2.imwrite(\"/app/norm_patches.png\", cv2.cvtColor(reconstruct_image(norm_patches, coords), cv2.COLOR_RGB2BGR))"
   ]
  },
  {
   "cell_type": "code",
   "execution_count": null,
   "metadata": {},
   "outputs": [],
   "source": []
  }
 ],
 "metadata": {
  "kernelspec": {
   "display_name": "env",
   "language": "python",
   "name": "python3"
  },
  "language_info": {
   "codemirror_mode": {
    "name": "ipython",
    "version": 3
   },
   "file_extension": ".py",
   "mimetype": "text/x-python",
   "name": "python",
   "nbconvert_exporter": "python",
   "pygments_lexer": "ipython3",
   "version": "3.10.12"
  },
  "orig_nbformat": 4
 },
 "nbformat": 4,
 "nbformat_minor": 2
}
